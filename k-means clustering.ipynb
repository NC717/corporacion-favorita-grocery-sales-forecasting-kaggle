{
 "cells": [
  {
   "cell_type": "code",
   "execution_count": 46,
   "metadata": {
    "collapsed": true
   },
   "outputs": [],
   "source": [
    "import pandas as pd\n",
    "import numpy as np\n",
    "from sklearn.cluster import KMeans\n",
    "from sklearn.decomposition import PCA\n",
    "import matplotlib.pyplot as plt\n",
    "import os"
   ]
  },
  {
   "cell_type": "code",
   "execution_count": 190,
   "metadata": {},
   "outputs": [
    {
     "data": {
      "image/png": "[encoded data removed]",
      "text/plain": [
       "<matplotlib.figure.Figure at 0x1284d739320>"
      ]
     },
     "metadata": {},
     "output_type": "display_data"
    }
   ],
   "source": [
    "%matplotlib inline\n",
    "m='10'\n",
    "path='..\\\\mean_unit_sales_{}.csv'.format(m)\n",
    "mth=os.path.splitext(path)[0][-2:]\n",
    "df=pd.read_csv(path)\n",
    "d1=df.fillna(0).drop(['family','item_nbr'], axis=1)\n",
    "d2=d1.T.values\n",
    "kmeans=KMeans(n_clusters=2).fit(d2)\n",
    "kmeanslabel=kmeans.labels_\n",
    "kmeanscenters=kmeans.cluster_centers_\n",
    "stores=[]\n",
    "strs=df.head().columns[2:]\n",
    "ind1=np.where(kmeanslabel==1)\n",
    "ind0=np.where(kmeanslabel==0)\n",
    "pca=PCA(n_components=2)\n",
    "d3=pca.fit_transform(d2)\n",
    "\n",
    "d4=pca.transform(kmeanscenters)\n",
    "str0=strs[ind0]\n",
    "str1=strs[ind1]\n",
    "\n",
    "str0=[1,2,3,4,6,7,8,44,45,46,47]\n",
    "str1=[48,49,9,10,17,18,20]\n",
    "\n",
    "fig, ax=plt.subplots(figsize=(10,5))\n",
    "\n",
    "xo=list(d3[ind0][:,0])\n",
    "yo=list(d3[ind0][:,1])\n",
    "x1=list(d3[ind1][:,0])\n",
    "y1=list(d3[ind1][:,1])\n",
    "\n",
    "ax.scatter(xo, yo, c='r')\n",
    "for i, txt in enumerate(str0):\n",
    "    ax.annotate(txt, (xo[i], yo[i]), xytext=(5,-5), textcoords='offset points')\n",
    "ax.scatter(x1,y1,c='b')\n",
    "for i, txt in enumerate(str1):\n",
    "    ax.annotate(txt, (x1[i], y1[i]), xytext=(5,-5), textcoords='offset points')\n",
    "\n",
    "\n",
    "ax.scatter(d4[:,0], d4[:,1], c='k', marker='x')\n",
    "fig.savefig('../results/cluster{}.png'.format(mth))\n"
   ]
  },
  {
   "cell_type": "code",
   "execution_count": null,
   "metadata": {
    "collapsed": true
   },
   "outputs": [],
   "source": []
  }
 ],
 "metadata": {
  "kernelspec": {
   "display_name": "Python 3",
   "language": "python",
   "name": "python3"
  },
  "language_info": {
   "codemirror_mode": {
    "name": "ipython",
    "version": 3
   },
   "file_extension": ".py",
   "mimetype": "text/x-python",
   "name": "python",
   "nbconvert_exporter": "python",
   "pygments_lexer": "ipython3",
   "version": "3.6.4"
  }
 },
 "nbformat": 4,
 "nbformat_minor": 2
}
